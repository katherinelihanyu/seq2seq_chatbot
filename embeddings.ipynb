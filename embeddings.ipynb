{
 "cells": [
  {
   "cell_type": "code",
   "execution_count": 1,
   "metadata": {},
   "outputs": [
    {
     "name": "stderr",
     "output_type": "stream",
     "text": [
      "b'Skipping line 32874: expected 5 fields, saw 6\\nSkipping line 33067: expected 5 fields, saw 6\\nSkipping line 33069: expected 5 fields, saw 6\\nSkipping line 36205: expected 5 fields, saw 6\\nSkipping line 65373: expected 5 fields, saw 6\\nSkipping line 90706: expected 5 fields, saw 6\\nSkipping line 90779: expected 5 fields, saw 6\\nSkipping line 90791: expected 5 fields, saw 6\\nSkipping line 90983: expected 5 fields, saw 6\\nSkipping line 91029: expected 5 fields, saw 6\\nSkipping line 91079: expected 5 fields, saw 6\\nSkipping line 91080: expected 5 fields, saw 6\\nSkipping line 91155: expected 5 fields, saw 6\\nSkipping line 125358: expected 5 fields, saw 6\\nSkipping line 125470: expected 5 fields, saw 7\\nSkipping line 125490: expected 5 fields, saw 6\\nSkipping line 125534: expected 5 fields, saw 6\\n'\n",
      "b'Skipping line 135067: expected 5 fields, saw 7\\nSkipping line 135831: expected 5 fields, saw 6\\nSkipping line 156051: expected 5 fields, saw 8\\nSkipping line 168093: expected 5 fields, saw 11\\nSkipping line 168094: expected 5 fields, saw 11\\nSkipping line 168146: expected 5 fields, saw 9\\nSkipping line 168180: expected 5 fields, saw 11\\nSkipping line 168199: expected 5 fields, saw 8\\nSkipping line 183602: expected 5 fields, saw 6\\nSkipping line 198528: expected 5 fields, saw 6\\nSkipping line 204504: expected 5 fields, saw 6\\nSkipping line 204634: expected 5 fields, saw 6\\nSkipping line 204668: expected 5 fields, saw 6\\nSkipping line 208973: expected 5 fields, saw 6\\nSkipping line 209091: expected 5 fields, saw 6\\nSkipping line 209489: expected 5 fields, saw 6\\nSkipping line 209501: expected 5 fields, saw 6\\nSkipping line 209551: expected 5 fields, saw 6\\nSkipping line 209572: expected 5 fields, saw 6\\nSkipping line 209629: expected 5 fields, saw 6\\nSkipping line 218221: expected 5 fields, saw 6\\nSkipping line 218278: expected 5 fields, saw 6\\nSkipping line 221501: expected 5 fields, saw 17\\nSkipping line 221502: expected 5 fields, saw 12\\nSkipping line 221515: expected 5 fields, saw 12\\nSkipping line 221518: expected 5 fields, saw 10\\nSkipping line 221539: expected 5 fields, saw 9\\nSkipping line 221540: expected 5 fields, saw 12\\nSkipping line 221581: expected 5 fields, saw 12\\nSkipping line 221587: expected 5 fields, saw 8\\nSkipping line 221592: expected 5 fields, saw 12\\nSkipping line 221600: expected 5 fields, saw 12\\nSkipping line 221607: expected 5 fields, saw 14\\nSkipping line 221620: expected 5 fields, saw 11\\nSkipping line 221625: expected 5 fields, saw 8\\nSkipping line 221677: expected 5 fields, saw 11\\nSkipping line 221680: expected 5 fields, saw 8\\nSkipping line 221721: expected 5 fields, saw 9\\nSkipping line 221725: expected 5 fields, saw 35\\nSkipping line 221729: expected 5 fields, saw 9\\nSkipping line 221761: expected 5 fields, saw 26\\nSkipping line 221762: expected 5 fields, saw 12\\nSkipping line 221763: expected 5 fields, saw 34\\nSkipping line 221765: expected 5 fields, saw 7\\nSkipping line 221766: expected 5 fields, saw 11\\nSkipping line 221767: expected 5 fields, saw 11\\nSkipping line 221768: expected 5 fields, saw 12\\nSkipping line 221769: expected 5 fields, saw 11\\nSkipping line 221770: expected 5 fields, saw 10\\nSkipping line 221771: expected 5 fields, saw 17\\nSkipping line 221772: expected 5 fields, saw 10\\nSkipping line 221773: expected 5 fields, saw 21\\nSkipping line 221774: expected 5 fields, saw 14\\nSkipping line 221780: expected 5 fields, saw 9\\nSkipping line 221781: expected 5 fields, saw 10\\nSkipping line 221782: expected 5 fields, saw 14\\nSkipping line 221783: expected 5 fields, saw 10\\nSkipping line 221784: expected 5 fields, saw 7\\nSkipping line 221785: expected 5 fields, saw 17\\nSkipping line 221793: expected 5 fields, saw 9\\nSkipping line 221799: expected 5 fields, saw 12\\nSkipping line 221800: expected 5 fields, saw 11\\nSkipping line 221809: expected 5 fields, saw 11\\nSkipping line 221815: expected 5 fields, saw 29\\nSkipping line 221816: expected 5 fields, saw 12\\nSkipping line 221913: expected 5 fields, saw 12\\nSkipping line 221920: expected 5 fields, saw 7\\nSkipping line 221926: expected 5 fields, saw 8\\nSkipping line 221934: expected 5 fields, saw 21\\nSkipping line 221935: expected 5 fields, saw 19\\nSkipping line 221937: expected 5 fields, saw 19\\nSkipping line 221938: expected 5 fields, saw 14\\nSkipping line 221939: expected 5 fields, saw 19\\nSkipping line 221940: expected 5 fields, saw 19\\nSkipping line 221941: expected 5 fields, saw 12\\nSkipping line 221943: expected 5 fields, saw 18\\nSkipping line 229087: expected 5 fields, saw 6\\nSkipping line 232561: expected 5 fields, saw 6\\nSkipping line 232755: expected 5 fields, saw 6\\nSkipping line 236376: expected 5 fields, saw 6\\nSkipping line 236822: expected 5 fields, saw 6\\nSkipping line 236930: expected 5 fields, saw 6\\nSkipping line 236985: expected 5 fields, saw 6\\nSkipping line 238148: expected 5 fields, saw 6\\nSkipping line 238334: expected 5 fields, saw 6\\nSkipping line 238444: expected 5 fields, saw 6\\nSkipping line 238475: expected 5 fields, saw 6\\nSkipping line 238535: expected 5 fields, saw 6\\nSkipping line 246672: expected 5 fields, saw 6\\nSkipping line 246694: expected 5 fields, saw 6\\nSkipping line 246957: expected 5 fields, saw 6\\nSkipping line 247162: expected 5 fields, saw 6\\nSkipping line 249391: expected 5 fields, saw 6\\nSkipping line 251995: expected 5 fields, saw 6\\nSkipping line 252103: expected 5 fields, saw 6\\n'\n",
      "b'Skipping line 262533: expected 5 fields, saw 10\\nSkipping line 264885: expected 5 fields, saw 6\\nSkipping line 267572: expected 5 fields, saw 6\\nSkipping line 270544: expected 5 fields, saw 11\\nSkipping line 271481: expected 5 fields, saw 11\\nSkipping line 271549: expected 5 fields, saw 6\\nSkipping line 271583: expected 5 fields, saw 6\\nSkipping line 271672: expected 5 fields, saw 6\\nSkipping line 271701: expected 5 fields, saw 6\\nSkipping line 271760: expected 5 fields, saw 14\\nSkipping line 271761: expected 5 fields, saw 13\\nSkipping line 271765: expected 5 fields, saw 13\\nSkipping line 271773: expected 5 fields, saw 6\\nSkipping line 271798: expected 5 fields, saw 7\\nSkipping line 271800: expected 5 fields, saw 7\\nSkipping line 272303: expected 5 fields, saw 6\\nSkipping line 272338: expected 5 fields, saw 6\\nSkipping line 280172: expected 5 fields, saw 6\\nSkipping line 280264: expected 5 fields, saw 6\\nSkipping line 289818: expected 5 fields, saw 9\\nSkipping line 289819: expected 5 fields, saw 9\\nSkipping line 289820: expected 5 fields, saw 15\\nSkipping line 289825: expected 5 fields, saw 15\\nSkipping line 289862: expected 5 fields, saw 16\\nSkipping line 289864: expected 5 fields, saw 10\\nSkipping line 289865: expected 5 fields, saw 19\\nSkipping line 289869: expected 5 fields, saw 13\\nSkipping line 289871: expected 5 fields, saw 9\\nSkipping line 289873: expected 5 fields, saw 9\\nSkipping line 289882: expected 5 fields, saw 10\\nSkipping line 289893: expected 5 fields, saw 11\\nSkipping line 289911: expected 5 fields, saw 11\\nSkipping line 289918: expected 5 fields, saw 12\\nSkipping line 289940: expected 5 fields, saw 22\\nSkipping line 289955: expected 5 fields, saw 16\\nSkipping line 289976: expected 5 fields, saw 10\\nSkipping line 289979: expected 5 fields, saw 19\\nSkipping line 289983: expected 5 fields, saw 9\\nSkipping line 290023: expected 5 fields, saw 36\\nSkipping line 290035: expected 5 fields, saw 9\\nSkipping line 290037: expected 5 fields, saw 13\\nSkipping line 290038: expected 5 fields, saw 9\\nSkipping line 290057: expected 5 fields, saw 14\\nSkipping line 290077: expected 5 fields, saw 15\\nSkipping line 290169: expected 5 fields, saw 13\\nSkipping line 290170: expected 5 fields, saw 10\\nSkipping line 290203: expected 5 fields, saw 9\\nSkipping line 290258: expected 5 fields, saw 17\\nSkipping line 290264: expected 5 fields, saw 14\\nSkipping line 290266: expected 5 fields, saw 14\\nSkipping line 290267: expected 5 fields, saw 10\\nSkipping line 290276: expected 5 fields, saw 16\\nSkipping line 290279: expected 5 fields, saw 9\\nSkipping line 290280: expected 5 fields, saw 12\\nSkipping line 290281: expected 5 fields, saw 10\\nSkipping line 290282: expected 5 fields, saw 10\\n'\n"
     ]
    }
   ],
   "source": [
    "import csv\n",
    "import re\n",
    "import pandas as pd\n",
    "import numpy as np\n",
    "import pickle\n",
    "\n",
    "def load_embeddings():\n",
    "    \"\"\"\n",
    "    Loads pretrained embeddings from a file and returns\n",
    "    the list of words, a numpy matrix with each row\n",
    "    containing the respective embedding of the word, and a \n",
    "    dictionary with key:value as word:embedding.\n",
    "    \"\"\"\n",
    "    f = open(\"glove.6B.50d.txt\",'r')\n",
    "    vocab = {}\n",
    "    words = []\n",
    "    vectors = []\n",
    "    for line in f:\n",
    "        tokens = line.split()\n",
    "        word = tokens[0]\n",
    "        embedding = np.array([float(val) for val in tokens[1:]])\n",
    "        words.append(word)\n",
    "        vectors.append(embedding)\n",
    "        vocab[word] = embedding\n",
    "    return words,np.asarray(vectors),vocab\n",
    "\n",
    "WORDS, VECTORS, VOCAB = load_embeddings()\n",
    "\n",
    "train_df = pd.read_csv(\"movie_lines.tsv\", sep=\"\\t\",error_bad_lines=False) #skipped 218 lines\n",
    "# print(train_df)"
   ]
  },
  {
   "cell_type": "code",
   "execution_count": 2,
   "metadata": {},
   "outputs": [
    {
     "data": {
      "text/plain": [
       "array([-7.9149e-01,  8.6617e-01,  1.1998e-01,  9.2287e-04,  2.7760e-01,\n",
       "       -4.9185e-01,  5.0195e-01,  6.0792e-04, -2.5845e-01,  1.7865e-01,\n",
       "        2.5350e-01,  7.6572e-01,  5.0664e-01,  4.0250e-01, -2.1388e-03,\n",
       "       -2.8397e-01, -5.0324e-01,  3.0449e-01,  5.1779e-01,  1.5090e-02,\n",
       "       -3.5031e-01, -1.1278e+00,  3.3253e-01, -3.5250e-01,  4.1326e-02,\n",
       "        1.0863e+00,  3.3910e-02,  3.3564e-01,  4.9745e-01, -7.0131e-02,\n",
       "       -1.2192e+00, -4.8512e-01, -3.8512e-02, -1.3554e-01, -1.6380e-01,\n",
       "        5.2321e-01, -3.1318e-01, -1.6550e-01,  1.1909e-01, -1.5115e-01,\n",
       "       -1.5621e-01, -6.2655e-01, -6.2336e-01, -4.2150e-01,  4.1873e-01,\n",
       "       -9.2472e-01,  1.1049e+00, -2.9996e-01, -6.3003e-03,  3.9540e-01])"
      ]
     },
     "execution_count": 2,
     "metadata": {},
     "output_type": "execute_result"
    }
   ],
   "source": [
    "VOCAB[\"unk\"]"
   ]
  },
  {
   "cell_type": "code",
   "execution_count": 3,
   "metadata": {},
   "outputs": [
    {
     "name": "stdout",
     "output_type": "stream",
     "text": [
      "max_len 393\n",
      "max_index 192379\n"
     ]
    }
   ],
   "source": [
    "max_len = 0\n",
    "max_index=0\n",
    "for index, row in train_df.iterrows():\n",
    "    if isinstance(row[\"Text\"], str) and len(re.findall(r'^-+|\\w+|\\S+', row[\"Text\"]))>max_len:\n",
    "        # print(row[\"Text\"].split())\n",
    "        # print(re.findall(r'^-+|\\w+|\\S+', row[\"Text\"]))\n",
    "        # print(re.findall(r\"[\\w']+|[.,!?;]\", row[\"Text\"]))\n",
    "        max_len = len(re.findall(r'^-+|\\w+|\\S+', row[\"Text\"]))\n",
    "        max_index = index\n",
    "print(\"max_len\",max_len)\n",
    "print(\"max_index\",max_index)"
   ]
  },
  {
   "cell_type": "code",
   "execution_count": 4,
   "metadata": {},
   "outputs": [],
   "source": [
    "prev_row=None\n",
    "first = True\n",
    "encoder_input_data = []\n",
    "decoder_input_data = []\n",
    "for index, row in train_df.iterrows():\n",
    "    if not first and isinstance(prev_row[\"Text\"], str) and isinstance(row[\"Text\"], str) and int(prev_row[\"LineID\"][1:]) == int(row[\"LineID\"][1:]) + 1:\n",
    "        vec = np.zeros((max_len,50))\n",
    "        words = re.findall(r'^-+|\\w+|\\S+', prev_row[\"Text\"])\n",
    "        for i in range(len(words)):\n",
    "            if words[i] in VOCAB:\n",
    "                vec[i] = VOCAB[words[i]]\n",
    "            else:\n",
    "                vec[i] = VOCAB['unk']\n",
    "        encoder_input_data.append(vec)\n",
    "        vec = np.zeros((max_len,50))\n",
    "        words = re.findall(r'^-+|\\w+|\\S+', row[\"Text\"])\n",
    "        for i in range(len(words)):\n",
    "            if words[i] in VOCAB:\n",
    "                vec[i] = VOCAB[words[i]]\n",
    "            else:\n",
    "                vec[i] = VOCAB['unk']\n",
    "        decoder_input_data.append(vec)\n",
    "    prev_row = row\n",
    "    first = False\n"
   ]
  },
  {
   "cell_type": "code",
   "execution_count": 5,
   "metadata": {},
   "outputs": [
    {
     "name": "stdout",
     "output_type": "stream",
     "text": [
      "243443\n",
      "243443\n"
     ]
    }
   ],
   "source": [
    "print(len(encoder_input_data))\n",
    "print(len(decoder_input_data))"
   ]
  },
  {
   "cell_type": "code",
   "execution_count": 6,
   "metadata": {},
   "outputs": [
    {
     "name": "stdout",
     "output_type": "stream",
     "text": [
      "(393, 50)\n"
     ]
    }
   ],
   "source": [
    "print(encoder_input_data[0].shape)"
   ]
  },
  {
   "cell_type": "code",
   "execution_count": 7,
   "metadata": {},
   "outputs": [
    {
     "data": {
      "text/plain": [
       "False"
      ]
     },
     "execution_count": 7,
     "metadata": {},
     "output_type": "execute_result"
    }
   ],
   "source": [
    "np.array_equal(encoder_input_data[0], decoder_input_data[0])"
   ]
  },
  {
   "cell_type": "code",
   "execution_count": null,
   "metadata": {},
   "outputs": [],
   "source": []
  }
 ],
 "metadata": {
  "kernelspec": {
   "display_name": "Python 3",
   "language": "python",
   "name": "python3"
  },
  "language_info": {
   "codemirror_mode": {
    "name": "ipython",
    "version": 3
   },
   "file_extension": ".py",
   "mimetype": "text/x-python",
   "name": "python",
   "nbconvert_exporter": "python",
   "pygments_lexer": "ipython3",
   "version": "3.6.5"
  }
 },
 "nbformat": 4,
 "nbformat_minor": 2
}
